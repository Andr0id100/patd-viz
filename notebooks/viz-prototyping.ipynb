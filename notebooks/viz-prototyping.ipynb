{
 "cells": [
  {
   "cell_type": "code",
   "execution_count": 301,
   "id": "2b3d4984",
   "metadata": {},
   "outputs": [],
   "source": [
    "import pandas as pd\n",
    "import os\n",
    "import matplotlib.pyplot as plt\n",
    "from PIL import Image, ImageDraw"
   ]
  },
  {
   "cell_type": "code",
   "execution_count": 2,
   "id": "26547cae",
   "metadata": {},
   "outputs": [],
   "source": [
    "df = pd.read_csv(\"video-list.csv\")"
   ]
  },
  {
   "cell_type": "code",
   "execution_count": 3,
   "id": "80665af3",
   "metadata": {},
   "outputs": [
    {
     "data": {
      "text/html": [
       "<div>\n",
       "<style scoped>\n",
       "    .dataframe tbody tr th:only-of-type {\n",
       "        vertical-align: middle;\n",
       "    }\n",
       "\n",
       "    .dataframe tbody tr th {\n",
       "        vertical-align: top;\n",
       "    }\n",
       "\n",
       "    .dataframe thead th {\n",
       "        text-align: right;\n",
       "    }\n",
       "</style>\n",
       "<table border=\"1\" class=\"dataframe\">\n",
       "  <thead>\n",
       "    <tr style=\"text-align: right;\">\n",
       "      <th></th>\n",
       "      <th>id</th>\n",
       "      <th>name</th>\n",
       "      <th>link</th>\n",
       "      <th>year</th>\n",
       "    </tr>\n",
       "  </thead>\n",
       "  <tbody>\n",
       "    <tr>\n",
       "      <th>0</th>\n",
       "      <td>0</td>\n",
       "      <td>I Write Sins Not Tragedies</td>\n",
       "      <td>https://www.youtube.com/watch?v=vc6vs-l5dkc</td>\n",
       "      <td>2006</td>\n",
       "    </tr>\n",
       "    <tr>\n",
       "      <th>1</th>\n",
       "      <td>1</td>\n",
       "      <td>But It's Better If You Do</td>\n",
       "      <td>https://www.youtube.com/watch?v=uBtH2YlNiNc</td>\n",
       "      <td>2006</td>\n",
       "    </tr>\n",
       "    <tr>\n",
       "      <th>2</th>\n",
       "      <td>2</td>\n",
       "      <td>Lying Is the Most Fun a Girl Can Have Without ...</td>\n",
       "      <td>https://www.youtube.com/watch?v=8AZxUtZ2ZgI</td>\n",
       "      <td>2006</td>\n",
       "    </tr>\n",
       "    <tr>\n",
       "      <th>3</th>\n",
       "      <td>3</td>\n",
       "      <td>Build God, Then We'll Talk</td>\n",
       "      <td>https://www.youtube.com/watch?v=TFSIm3Zeecg</td>\n",
       "      <td>2007</td>\n",
       "    </tr>\n",
       "    <tr>\n",
       "      <th>4</th>\n",
       "      <td>4</td>\n",
       "      <td>Nine in the Afternoon</td>\n",
       "      <td>https://www.youtube.com/watch?v=yCto3PCn8wo</td>\n",
       "      <td>2008</td>\n",
       "    </tr>\n",
       "    <tr>\n",
       "      <th>5</th>\n",
       "      <td>5</td>\n",
       "      <td>Mad as Rabbits</td>\n",
       "      <td>https://www.youtube.com/watch?v=w6LJLcZmJiY</td>\n",
       "      <td>2008</td>\n",
       "    </tr>\n",
       "    <tr>\n",
       "      <th>6</th>\n",
       "      <td>6</td>\n",
       "      <td>That Green Gentleman (Things Have Changed)</td>\n",
       "      <td>https://www.youtube.com/watch?v=3f3K2sEHuIM</td>\n",
       "      <td>2008</td>\n",
       "    </tr>\n",
       "    <tr>\n",
       "      <th>7</th>\n",
       "      <td>7</td>\n",
       "      <td>Northern Downpour</td>\n",
       "      <td>https://www.youtube.com/watch?v=zouSojyIi94</td>\n",
       "      <td>2008</td>\n",
       "    </tr>\n",
       "    <tr>\n",
       "      <th>8</th>\n",
       "      <td>8</td>\n",
       "      <td>It's Almost Halloween</td>\n",
       "      <td>https://www.youtube.com/watch?v=3iTFnNU3AYg</td>\n",
       "      <td>2008</td>\n",
       "    </tr>\n",
       "    <tr>\n",
       "      <th>9</th>\n",
       "      <td>9</td>\n",
       "      <td>New Perspective</td>\n",
       "      <td>https://www.youtube.com/watch?v=d3sA5plF6kE</td>\n",
       "      <td>2009</td>\n",
       "    </tr>\n",
       "    <tr>\n",
       "      <th>10</th>\n",
       "      <td>10</td>\n",
       "      <td>The Ballad of Mona Lisa</td>\n",
       "      <td>https://www.youtube.com/watch?v=gOgpdp3lP8M</td>\n",
       "      <td>2011</td>\n",
       "    </tr>\n",
       "    <tr>\n",
       "      <th>11</th>\n",
       "      <td>11</td>\n",
       "      <td>The Overture</td>\n",
       "      <td>https://www.youtube.com/watch?v=8hQ6QjeKUOs</td>\n",
       "      <td>2011</td>\n",
       "    </tr>\n",
       "    <tr>\n",
       "      <th>12</th>\n",
       "      <td>12</td>\n",
       "      <td>Ready to Go (Get Me Out of My Mind)</td>\n",
       "      <td>https://www.youtube.com/watch?v=Y0jUcR25bcU</td>\n",
       "      <td>2011</td>\n",
       "    </tr>\n",
       "    <tr>\n",
       "      <th>13</th>\n",
       "      <td>13</td>\n",
       "      <td>Let's Kill Tonight</td>\n",
       "      <td>https://www.youtube.com/watch?v=uu2XSQgdQDY</td>\n",
       "      <td>2011</td>\n",
       "    </tr>\n",
       "    <tr>\n",
       "      <th>14</th>\n",
       "      <td>14</td>\n",
       "      <td>Miss Jackson</td>\n",
       "      <td>https://www.youtube.com/watch?v=LUc_jXBD9DU</td>\n",
       "      <td>2013</td>\n",
       "    </tr>\n",
       "    <tr>\n",
       "      <th>15</th>\n",
       "      <td>15</td>\n",
       "      <td>This Is Gospel</td>\n",
       "      <td>https://www.youtube.com/watch?v=tGE381tbQa8</td>\n",
       "      <td>2013</td>\n",
       "    </tr>\n",
       "    <tr>\n",
       "      <th>16</th>\n",
       "      <td>16</td>\n",
       "      <td>Girls / Girls / Boys</td>\n",
       "      <td>https://www.youtube.com/watch?v=Yk8jV7r6VMk</td>\n",
       "      <td>2013</td>\n",
       "    </tr>\n",
       "    <tr>\n",
       "      <th>17</th>\n",
       "      <td>17</td>\n",
       "      <td>Nicotine</td>\n",
       "      <td>https://www.youtube.com/watch?v=LkBxcmxWKAA</td>\n",
       "      <td>2014</td>\n",
       "    </tr>\n",
       "    <tr>\n",
       "      <th>18</th>\n",
       "      <td>18</td>\n",
       "      <td>This Is Gospel (Piano Version)</td>\n",
       "      <td>https://www.youtube.com/watch?v=jO2_3pVd5k0</td>\n",
       "      <td>2014</td>\n",
       "    </tr>\n",
       "    <tr>\n",
       "      <th>19</th>\n",
       "      <td>19</td>\n",
       "      <td>Hallelujah</td>\n",
       "      <td>https://www.youtube.com/watch?v=DxYyHHR0Q1c</td>\n",
       "      <td>2015</td>\n",
       "    </tr>\n",
       "    <tr>\n",
       "      <th>20</th>\n",
       "      <td>20</td>\n",
       "      <td>Emperor's New Clothes</td>\n",
       "      <td>https://www.youtube.com/watch?v=7qFF2v8VsaA</td>\n",
       "      <td>2015</td>\n",
       "    </tr>\n",
       "    <tr>\n",
       "      <th>21</th>\n",
       "      <td>21</td>\n",
       "      <td>Victorious</td>\n",
       "      <td>https://www.youtube.com/watch?v=AUChk0lxF44</td>\n",
       "      <td>2015</td>\n",
       "    </tr>\n",
       "    <tr>\n",
       "      <th>22</th>\n",
       "      <td>22</td>\n",
       "      <td>Death of a Bachelor</td>\n",
       "      <td>https://www.youtube.com/watch?v=R03cqGg40GU</td>\n",
       "      <td>2015</td>\n",
       "    </tr>\n",
       "    <tr>\n",
       "      <th>23</th>\n",
       "      <td>23</td>\n",
       "      <td>Don't Threaten Me with a Good Time</td>\n",
       "      <td>https://www.youtube.com/watch?v=H5NqIsnyTG8</td>\n",
       "      <td>2016</td>\n",
       "    </tr>\n",
       "    <tr>\n",
       "      <th>24</th>\n",
       "      <td>24</td>\n",
       "      <td>LA Devotee</td>\n",
       "      <td>https://www.youtube.com/watch?v=r5dNcKTcnPA</td>\n",
       "      <td>2016</td>\n",
       "    </tr>\n",
       "    <tr>\n",
       "      <th>25</th>\n",
       "      <td>25</td>\n",
       "      <td>Say Amen (Saturday Night)</td>\n",
       "      <td>https://www.youtube.com/watch?v=jVXauWq9Hwg</td>\n",
       "      <td>2018</td>\n",
       "    </tr>\n",
       "    <tr>\n",
       "      <th>26</th>\n",
       "      <td>26</td>\n",
       "      <td>Hey Look Ma, I Made It</td>\n",
       "      <td>https://www.youtube.com/watch?v=BzbxacRr5Gk</td>\n",
       "      <td>2018</td>\n",
       "    </tr>\n",
       "    <tr>\n",
       "      <th>27</th>\n",
       "      <td>27</td>\n",
       "      <td>High Hopes</td>\n",
       "      <td>https://www.youtube.com/watch?v=IPXIgEAGe4U</td>\n",
       "      <td>2018</td>\n",
       "    </tr>\n",
       "    <tr>\n",
       "      <th>28</th>\n",
       "      <td>28</td>\n",
       "      <td>Dancing's Not a Crime</td>\n",
       "      <td>https://www.youtube.com/watch?v=rODNMWBLZzY</td>\n",
       "      <td>2019</td>\n",
       "    </tr>\n",
       "    <tr>\n",
       "      <th>29</th>\n",
       "      <td>29</td>\n",
       "      <td>Into the Unknown</td>\n",
       "      <td>https://www.youtube.com/watch?v=jp-CVYGEsjg</td>\n",
       "      <td>2019</td>\n",
       "    </tr>\n",
       "  </tbody>\n",
       "</table>\n",
       "</div>"
      ],
      "text/plain": [
       "    id                                               name  \\\n",
       "0    0                         I Write Sins Not Tragedies   \n",
       "1    1                          But It's Better If You Do   \n",
       "2    2  Lying Is the Most Fun a Girl Can Have Without ...   \n",
       "3    3                         Build God, Then We'll Talk   \n",
       "4    4                              Nine in the Afternoon   \n",
       "5    5                                     Mad as Rabbits   \n",
       "6    6         That Green Gentleman (Things Have Changed)   \n",
       "7    7                                  Northern Downpour   \n",
       "8    8                              It's Almost Halloween   \n",
       "9    9                                    New Perspective   \n",
       "10  10                            The Ballad of Mona Lisa   \n",
       "11  11                                       The Overture   \n",
       "12  12                Ready to Go (Get Me Out of My Mind)   \n",
       "13  13                                 Let's Kill Tonight   \n",
       "14  14                                       Miss Jackson   \n",
       "15  15                                     This Is Gospel   \n",
       "16  16                               Girls / Girls / Boys   \n",
       "17  17                                           Nicotine   \n",
       "18  18                     This Is Gospel (Piano Version)   \n",
       "19  19                                         Hallelujah   \n",
       "20  20                              Emperor's New Clothes   \n",
       "21  21                                         Victorious   \n",
       "22  22                                Death of a Bachelor   \n",
       "23  23                 Don't Threaten Me with a Good Time   \n",
       "24  24                                         LA Devotee   \n",
       "25  25                          Say Amen (Saturday Night)   \n",
       "26  26                             Hey Look Ma, I Made It   \n",
       "27  27                                         High Hopes   \n",
       "28  28                              Dancing's Not a Crime   \n",
       "29  29                                   Into the Unknown   \n",
       "\n",
       "                                           link  year  \n",
       "0   https://www.youtube.com/watch?v=vc6vs-l5dkc  2006  \n",
       "1   https://www.youtube.com/watch?v=uBtH2YlNiNc  2006  \n",
       "2   https://www.youtube.com/watch?v=8AZxUtZ2ZgI  2006  \n",
       "3   https://www.youtube.com/watch?v=TFSIm3Zeecg  2007  \n",
       "4   https://www.youtube.com/watch?v=yCto3PCn8wo  2008  \n",
       "5   https://www.youtube.com/watch?v=w6LJLcZmJiY  2008  \n",
       "6   https://www.youtube.com/watch?v=3f3K2sEHuIM  2008  \n",
       "7   https://www.youtube.com/watch?v=zouSojyIi94  2008  \n",
       "8   https://www.youtube.com/watch?v=3iTFnNU3AYg  2008  \n",
       "9   https://www.youtube.com/watch?v=d3sA5plF6kE  2009  \n",
       "10  https://www.youtube.com/watch?v=gOgpdp3lP8M  2011  \n",
       "11  https://www.youtube.com/watch?v=8hQ6QjeKUOs  2011  \n",
       "12  https://www.youtube.com/watch?v=Y0jUcR25bcU  2011  \n",
       "13  https://www.youtube.com/watch?v=uu2XSQgdQDY  2011  \n",
       "14  https://www.youtube.com/watch?v=LUc_jXBD9DU  2013  \n",
       "15  https://www.youtube.com/watch?v=tGE381tbQa8  2013  \n",
       "16  https://www.youtube.com/watch?v=Yk8jV7r6VMk  2013  \n",
       "17  https://www.youtube.com/watch?v=LkBxcmxWKAA  2014  \n",
       "18  https://www.youtube.com/watch?v=jO2_3pVd5k0  2014  \n",
       "19  https://www.youtube.com/watch?v=DxYyHHR0Q1c  2015  \n",
       "20  https://www.youtube.com/watch?v=7qFF2v8VsaA  2015  \n",
       "21  https://www.youtube.com/watch?v=AUChk0lxF44  2015  \n",
       "22  https://www.youtube.com/watch?v=R03cqGg40GU  2015  \n",
       "23  https://www.youtube.com/watch?v=H5NqIsnyTG8  2016  \n",
       "24  https://www.youtube.com/watch?v=r5dNcKTcnPA  2016  \n",
       "25  https://www.youtube.com/watch?v=jVXauWq9Hwg  2018  \n",
       "26  https://www.youtube.com/watch?v=BzbxacRr5Gk  2018  \n",
       "27  https://www.youtube.com/watch?v=IPXIgEAGe4U  2018  \n",
       "28  https://www.youtube.com/watch?v=rODNMWBLZzY  2019  \n",
       "29  https://www.youtube.com/watch?v=jp-CVYGEsjg  2019  "
      ]
     },
     "execution_count": 3,
     "metadata": {},
     "output_type": "execute_result"
    }
   ],
   "source": [
    "df"
   ]
  },
  {
   "cell_type": "code",
   "execution_count": 4,
   "id": "e5d6b099",
   "metadata": {},
   "outputs": [],
   "source": [
    "video_name = 23"
   ]
  },
  {
   "cell_type": "code",
   "execution_count": 10,
   "id": "733c8a0b",
   "metadata": {},
   "outputs": [
    {
     "data": {
      "text/plain": [
       "226"
      ]
     },
     "execution_count": 10,
     "metadata": {},
     "output_type": "execute_result"
    }
   ],
   "source": [
    "len(os.listdir(f\"frames/{video_name}\"))"
   ]
  },
  {
   "cell_type": "code",
   "execution_count": 69,
   "id": "c6328c13",
   "metadata": {},
   "outputs": [],
   "source": [
    "frame_number = 200"
   ]
  },
  {
   "cell_type": "code",
   "execution_count": 70,
   "id": "ad62d61e",
   "metadata": {},
   "outputs": [],
   "source": [
    "image_path = f\"frames/{video_name:02d}/{frame_number:03d}.png\""
   ]
  },
  {
   "cell_type": "code",
   "execution_count": 71,
   "id": "eb0bdbfb",
   "metadata": {},
   "outputs": [],
   "source": [
    "img = plt.imread(image_path)"
   ]
  },
  {
   "cell_type": "code",
   "execution_count": 72,
   "id": "961c709d",
   "metadata": {},
   "outputs": [
    {
     "data": {
      "text/plain": [
       "(360, 640, 3)"
      ]
     },
     "execution_count": 72,
     "metadata": {},
     "output_type": "execute_result"
    }
   ],
   "source": [
    "img.shape"
   ]
  },
  {
   "cell_type": "code",
   "execution_count": 73,
   "id": "b98cd47a",
   "metadata": {},
   "outputs": [
    {
     "data": {
      "text/plain": [
       "<matplotlib.image.AxesImage at 0x7f01ad76ea60>"
      ]
     },
     "execution_count": 73,
     "metadata": {},
     "output_type": "execute_result"
    },
    {
     "data": {
      "image/png": "[encoded data removed]",
      "text/plain": [
       "<Figure size 432x288 with 1 Axes>"
      ]
     },
     "metadata": {
      "needs_background": "light"
     },
     "output_type": "display_data"
    }
   ],
   "source": [
    "plt.imshow(img)"
   ]
  },
  {
   "cell_type": "code",
   "execution_count": 74,
   "id": "76baf4d9",
   "metadata": {},
   "outputs": [
    {
     "data": {
      "text/plain": [
       "(1, 1, 3)"
      ]
     },
     "execution_count": 74,
     "metadata": {},
     "output_type": "execute_result"
    }
   ],
   "source": [
    "color = img.mean(axis=0).mean(axis=0).reshape(1, 1, 3); color.shape"
   ]
  },
  {
   "cell_type": "code",
   "execution_count": 75,
   "id": "b02e689f",
   "metadata": {},
   "outputs": [
    {
     "data": {
      "text/plain": [
       "<matplotlib.image.AxesImage at 0x7f01ad9da280>"
      ]
     },
     "execution_count": 75,
     "metadata": {},
     "output_type": "execute_result"
    },
    {
     "data": {
      "image/png": "[encoded data removed]",
      "text/plain": [
       "<Figure size 432x288 with 1 Axes>"
      ]
     },
     "metadata": {
      "needs_background": "light"
     },
     "output_type": "display_data"
    }
   ],
   "source": [
    "plt.imshow(color)"
   ]
  },
  {
   "cell_type": "code",
   "execution_count": 23,
   "id": "facc41da",
   "metadata": {},
   "outputs": [],
   "source": [
    "import numpy as np"
   ]
  },
  {
   "cell_type": "code",
   "execution_count": 126,
   "id": "e19e891b",
   "metadata": {},
   "outputs": [],
   "source": [
    "c = 5"
   ]
  },
  {
   "cell_type": "code",
   "execution_count": 221,
   "id": "120a9621",
   "metadata": {},
   "outputs": [],
   "source": [
    "colors = np.random.rand(1, 1, 3, c)"
   ]
  },
  {
   "cell_type": "code",
   "execution_count": 222,
   "id": "68017139",
   "metadata": {},
   "outputs": [
    {
     "data": {
      "image/png": "[encoded data removed]",
      "text/plain": [
       "<Figure size 72x72 with 5 Axes>"
      ]
     },
     "metadata": {
      "needs_background": "light"
     },
     "output_type": "display_data"
    }
   ],
   "source": [
    "fig, axs = plt.subplots(1, c, figsize=(1, 1))"
   ]
  },
  {
   "cell_type": "code",
   "execution_count": 223,
   "id": "757b1b86",
   "metadata": {},
   "outputs": [],
   "source": [
    "fig.subplots_adjust(wspace=0)"
   ]
  },
  {
   "cell_type": "code",
   "execution_count": 224,
   "id": "27de2f16",
   "metadata": {},
   "outputs": [],
   "source": [
    "for i in range(c):\n",
    "    axs[i].imshow(colors[:, :, :, i])\n",
    "    axs[i].axis('off')"
   ]
  },
  {
   "cell_type": "code",
   "execution_count": 225,
   "id": "3a0645b5",
   "metadata": {},
   "outputs": [
    {
     "data": {
      "image/png": "[encoded data removed]",
      "text/plain": [
       "<Figure size 72x72 with 5 Axes>"
      ]
     },
     "execution_count": 225,
     "metadata": {},
     "output_type": "execute_result"
    }
   ],
   "source": [
    "fig"
   ]
  },
  {
   "cell_type": "code",
   "execution_count": null,
   "id": "07c6019d",
   "metadata": {},
   "outputs": [],
   "source": []
  },
  {
   "cell_type": "code",
   "execution_count": 282,
   "id": "205ed99c",
   "metadata": {},
   "outputs": [],
   "source": [
    "c = 50"
   ]
  },
  {
   "cell_type": "code",
   "execution_count": 295,
   "id": "9810e336",
   "metadata": {},
   "outputs": [],
   "source": [
    "colors = np.random.rand(1, 1, 3, c)"
   ]
  },
  {
   "cell_type": "code",
   "execution_count": 296,
   "id": "e82635b7",
   "metadata": {},
   "outputs": [],
   "source": [
    "from PIL import Image, ImageDraw"
   ]
  },
  {
   "cell_type": "code",
   "execution_count": 297,
   "id": "75d653c9",
   "metadata": {},
   "outputs": [
    {
     "data": {
      "image/png": "[encoded data removed]",
      "text/plain": [
       "<PIL.Image.Image image mode=RGB size=150x100 at 0x7F01A38660D0>"
      ]
     },
     "execution_count": 297,
     "metadata": {},
     "output_type": "execute_result"
    }
   ],
   "source": [
    "image = Image.new(\"RGB\", (3*c, 100)); image"
   ]
  },
  {
   "cell_type": "code",
   "execution_count": 298,
   "id": "48fce0a3",
   "metadata": {},
   "outputs": [],
   "source": [
    "draw = ImageDraw.Draw(image)"
   ]
  },
  {
   "cell_type": "code",
   "execution_count": 299,
   "id": "5d94bcbe",
   "metadata": {},
   "outputs": [],
   "source": [
    "for i in range(c):\n",
    "#     print(tuple(np.array(colors[:, :, :, i].squeeze() * 255, dtype=int)))\n",
    "    x1 = 3*i\n",
    "    y1 = 0\n",
    "    \n",
    "    x2 = 3*(i+1)\n",
    "    y2 = 100\n",
    "    draw.rectangle(((x1, y1), (x2, y2)), fill=tuple(np.array(colors[:, :, :, i].squeeze() * 255, dtype=int)))"
   ]
  },
  {
   "cell_type": "code",
   "execution_count": 300,
   "id": "96bb5b36",
   "metadata": {},
   "outputs": [
    {
     "data": {
      "image/png": "[encoded data removed]",
      "text/plain": [
       "<PIL.Image.Image image mode=RGB size=150x100 at 0x7F01A38660D0>"
      ]
     },
     "execution_count": 300,
     "metadata": {},
     "output_type": "execute_result"
    }
   ],
   "source": [
    "image"
   ]
  },
  {
   "cell_type": "markdown",
   "id": "bf2a79dc",
   "metadata": {},
   "source": [
    "# With actual data"
   ]
  },
  {
   "cell_type": "code",
   "execution_count": 374,
   "id": "26f80e68",
   "metadata": {},
   "outputs": [],
   "source": [
    "video_name = 22"
   ]
  },
  {
   "cell_type": "code",
   "execution_count": 375,
   "id": "618f800e",
   "metadata": {},
   "outputs": [],
   "source": [
    "frame_count = len(os.listdir(f\"frames/{video_name}\"))"
   ]
  },
  {
   "cell_type": "code",
   "execution_count": 376,
   "id": "88016284",
   "metadata": {},
   "outputs": [
    {
     "name": "stdout",
     "output_type": "stream",
     "text": [
      "Processing frame: 1\n",
      "Processing frame: 2\n",
      "Processing frame: 3\n",
      "Processing frame: 4\n",
      "Processing frame: 5\n",
      "Processing frame: 6\n",
      "Processing frame: 7\n",
      "Processing frame: 8\n",
      "Processing frame: 9\n",
      "Processing frame: 10\n",
      "Processing frame: 11\n",
      "Processing frame: 12\n",
      "Processing frame: 13\n",
      "Processing frame: 14\n",
      "Processing frame: 15\n",
      "Processing frame: 16\n",
      "Processing frame: 17\n",
      "Processing frame: 18\n",
      "Processing frame: 19\n",
      "Processing frame: 20\n",
      "Processing frame: 21\n",
      "Processing frame: 22\n",
      "Processing frame: 23\n",
      "Processing frame: 24\n",
      "Processing frame: 25\n",
      "Processing frame: 26\n",
      "Processing frame: 27\n",
      "Processing frame: 28\n",
      "Processing frame: 29\n",
      "Processing frame: 30\n",
      "Processing frame: 31\n",
      "Processing frame: 32\n",
      "Processing frame: 33\n",
      "Processing frame: 34\n",
      "Processing frame: 35\n",
      "Processing frame: 36\n",
      "Processing frame: 37\n",
      "Processing frame: 38\n",
      "Processing frame: 39\n",
      "Processing frame: 40\n",
      "Processing frame: 41\n",
      "Processing frame: 42\n",
      "Processing frame: 43\n",
      "Processing frame: 44\n",
      "Processing frame: 45\n",
      "Processing frame: 46\n",
      "Processing frame: 47\n",
      "Processing frame: 48\n",
      "Processing frame: 49\n",
      "Processing frame: 50\n",
      "Processing frame: 51\n",
      "Processing frame: 52\n",
      "Processing frame: 53\n",
      "Processing frame: 54\n",
      "Processing frame: 55\n",
      "Processing frame: 56\n",
      "Processing frame: 57\n",
      "Processing frame: 58\n",
      "Processing frame: 59\n",
      "Processing frame: 60\n",
      "Processing frame: 61\n",
      "Processing frame: 62\n",
      "Processing frame: 63\n",
      "Processing frame: 64\n",
      "Processing frame: 65\n",
      "Processing frame: 66\n",
      "Processing frame: 67\n",
      "Processing frame: 68\n",
      "Processing frame: 69\n",
      "Processing frame: 70\n",
      "Processing frame: 71\n",
      "Processing frame: 72\n",
      "Processing frame: 73\n",
      "Processing frame: 74\n",
      "Processing frame: 75\n",
      "Processing frame: 76\n",
      "Processing frame: 77\n",
      "Processing frame: 78\n",
      "Processing frame: 79\n",
      "Processing frame: 80\n",
      "Processing frame: 81\n",
      "Processing frame: 82\n",
      "Processing frame: 83\n",
      "Processing frame: 84\n",
      "Processing frame: 85\n",
      "Processing frame: 86\n",
      "Processing frame: 87\n",
      "Processing frame: 88\n",
      "Processing frame: 89\n",
      "Processing frame: 90\n",
      "Processing frame: 91\n",
      "Processing frame: 92\n",
      "Processing frame: 93\n",
      "Processing frame: 94\n",
      "Processing frame: 95\n",
      "Processing frame: 96\n",
      "Processing frame: 97\n",
      "Processing frame: 98\n",
      "Processing frame: 99\n",
      "Processing frame: 100\n",
      "Processing frame: 101\n",
      "Processing frame: 102\n",
      "Processing frame: 103\n",
      "Processing frame: 104\n",
      "Processing frame: 105\n",
      "Processing frame: 106\n",
      "Processing frame: 107\n",
      "Processing frame: 108\n",
      "Processing frame: 109\n",
      "Processing frame: 110\n",
      "Processing frame: 111\n",
      "Processing frame: 112\n",
      "Processing frame: 113\n",
      "Processing frame: 114\n",
      "Processing frame: 115\n",
      "Processing frame: 116\n",
      "Processing frame: 117\n",
      "Processing frame: 118\n",
      "Processing frame: 119\n",
      "Processing frame: 120\n",
      "Processing frame: 121\n",
      "Processing frame: 122\n",
      "Processing frame: 123\n",
      "Processing frame: 124\n",
      "Processing frame: 125\n",
      "Processing frame: 126\n",
      "Processing frame: 127\n",
      "Processing frame: 128\n",
      "Processing frame: 129\n",
      "Processing frame: 130\n",
      "Processing frame: 131\n",
      "Processing frame: 132\n",
      "Processing frame: 133\n",
      "Processing frame: 134\n",
      "Processing frame: 135\n",
      "Processing frame: 136\n",
      "Processing frame: 137\n",
      "Processing frame: 138\n",
      "Processing frame: 139\n",
      "Processing frame: 140\n",
      "Processing frame: 141\n",
      "Processing frame: 142\n",
      "Processing frame: 143\n",
      "Processing frame: 144\n",
      "Processing frame: 145\n",
      "Processing frame: 146\n",
      "Processing frame: 147\n",
      "Processing frame: 148\n",
      "Processing frame: 149\n",
      "Processing frame: 150\n",
      "Processing frame: 151\n",
      "Processing frame: 152\n",
      "Processing frame: 153\n",
      "Processing frame: 154\n",
      "Processing frame: 155\n",
      "Processing frame: 156\n",
      "Processing frame: 157\n",
      "Processing frame: 158\n",
      "Processing frame: 159\n",
      "Processing frame: 160\n",
      "Processing frame: 161\n",
      "Processing frame: 162\n",
      "Processing frame: 163\n",
      "Processing frame: 164\n",
      "Processing frame: 165\n",
      "Processing frame: 166\n",
      "Processing frame: 167\n",
      "Processing frame: 168\n",
      "Processing frame: 169\n",
      "Processing frame: 170\n",
      "Processing frame: 171\n",
      "Processing frame: 172\n",
      "Processing frame: 173\n",
      "Processing frame: 174\n",
      "Processing frame: 175\n",
      "Processing frame: 176\n",
      "Processing frame: 177\n",
      "Processing frame: 178\n",
      "Processing frame: 179\n",
      "Processing frame: 180\n",
      "Processing frame: 181\n",
      "Processing frame: 182\n",
      "Processing frame: 183\n",
      "Processing frame: 184\n",
      "Processing frame: 185\n",
      "Processing frame: 186\n",
      "Processing frame: 187\n",
      "Processing frame: 188\n",
      "Processing frame: 189\n",
      "Processing frame: 190\n",
      "Processing frame: 191\n",
      "Processing frame: 192\n",
      "Processing frame: 193\n",
      "Processing frame: 194\n",
      "Processing frame: 195\n",
      "Processing frame: 196\n",
      "Processing frame: 197\n",
      "Processing frame: 198\n",
      "Processing frame: 199\n",
      "Processing frame: 200\n",
      "Processing frame: 201\n",
      "Processing frame: 202\n",
      "Processing frame: 203\n",
      "Processing frame: 204\n",
      "Processing frame: 205\n",
      "Processing frame: 206\n",
      "Processing frame: 207\n",
      "Processing frame: 208\n",
      "Processing frame: 209\n",
      "Processing frame: 210\n",
      "Processing frame: 211\n",
      "Processing frame: 212\n",
      "Processing frame: 213\n",
      "Processing frame: 214\n"
     ]
    }
   ],
   "source": [
    "colors = []\n",
    "for index in range(1, frame_count+1):\n",
    "    print(\"Processing frame:\", index)\n",
    "    file_path = f\"frames/{video_name:02d}/{index:03d}.png\"\n",
    "    img = plt.imread(file_path)\n",
    "    color = tuple(np.array(img.mean(axis=0).mean(axis=0) * 255, dtype=int))\n",
    "    colors.append(color)"
   ]
  },
  {
   "cell_type": "code",
   "execution_count": 377,
   "id": "22a9dcde",
   "metadata": {},
   "outputs": [],
   "source": [
    "width, height = 4, 150"
   ]
  },
  {
   "cell_type": "code",
   "execution_count": 378,
   "id": "0233ab10",
   "metadata": {},
   "outputs": [],
   "source": [
    "img = Image.new(\"RGB\", (width*frame_count, height))\n",
    "draw = ImageDraw.Draw(img)"
   ]
  },
  {
   "cell_type": "code",
   "execution_count": 379,
   "id": "82789033",
   "metadata": {},
   "outputs": [],
   "source": [
    "for i in range(frame_count):\n",
    "    x1 = width*i\n",
    "    y1 = 0\n",
    "    \n",
    "    x2 = width*(i+1)\n",
    "    y2 = height\n",
    "    draw.rectangle(((x1, y1), (x2, y2)), fill=colors[i])"
   ]
  },
  {
   "cell_type": "code",
   "execution_count": 380,
   "id": "876a75c3",
   "metadata": {},
   "outputs": [
    {
     "data": {
      "image/png": "[encoded data removed]",
      "text/plain": [
       "<PIL.Image.Image image mode=RGB size=856x150 at 0x7F01A262C2B0>"
      ]
     },
     "execution_count": 380,
     "metadata": {},
     "output_type": "execute_result"
    }
   ],
   "source": [
    "img"
   ]
  },
  {
   "cell_type": "code",
   "execution_count": null,
   "id": "88c578b1",
   "metadata": {},
   "outputs": [],
   "source": []
  }
 ],
 "metadata": {
  "kernelspec": {
   "display_name": "Python 3",
   "language": "python",
   "name": "python3"
  },
  "language_info": {
   "codemirror_mode": {
    "name": "ipython",
    "version": 3
   },
   "file_extension": ".py",
   "mimetype": "text/x-python",
   "name": "python",
   "nbconvert_exporter": "python",
   "pygments_lexer": "ipython3",
   "version": "3.8.5"
  }
 },
 "nbformat": 4,
 "nbformat_minor": 5
}
