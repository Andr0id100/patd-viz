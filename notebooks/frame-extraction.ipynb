{
 "cells": [
  {
   "cell_type": "code",
   "execution_count": 10,
   "id": "7e1d8c3c",
   "metadata": {},
   "outputs": [],
   "source": [
    "import pandas as pd\n",
    "import os"
   ]
  },
  {
   "cell_type": "code",
   "execution_count": 3,
   "id": "5eb40e07",
   "metadata": {},
   "outputs": [],
   "source": [
    "df = pd.read_csv(\"video-list.csv\")"
   ]
  },
  {
   "cell_type": "code",
   "execution_count": 28,
   "id": "a1a86cd0",
   "metadata": {},
   "outputs": [
    {
     "data": {
      "text/plain": [
       "0"
      ]
     },
     "execution_count": 28,
     "metadata": {},
     "output_type": "execute_result"
    }
   ],
   "source": [
    "os.system(\"rm -r frames; mkdir frames\")"
   ]
  },
  {
   "cell_type": "code",
   "execution_count": 29,
   "id": "05b8ff60",
   "metadata": {},
   "outputs": [
    {
     "name": "stdout",
     "output_type": "stream",
     "text": [
      "Extracting frames from: 0\n",
      "Extracting frames from: 1\n",
      "Extracting frames from: 2\n",
      "Extracting frames from: 3\n",
      "Extracting frames from: 4\n",
      "Extracting frames from: 5\n",
      "Extracting frames from: 6\n",
      "Extracting frames from: 7\n",
      "Extracting frames from: 8\n",
      "Extracting frames from: 9\n",
      "Extracting frames from: 10\n",
      "Extracting frames from: 11\n",
      "Extracting frames from: 12\n",
      "Extracting frames from: 13\n",
      "Extracting frames from: 14\n",
      "Extracting frames from: 15\n",
      "Extracting frames from: 16\n",
      "Extracting frames from: 17\n",
      "Extracting frames from: 18\n",
      "Extracting frames from: 19\n",
      "Extracting frames from: 20\n",
      "Extracting frames from: 21\n",
      "Extracting frames from: 22\n",
      "Extracting frames from: 23\n",
      "Extracting frames from: 24\n",
      "Extracting frames from: 25\n",
      "Extracting frames from: 26\n",
      "Extracting frames from: 27\n",
      "Extracting frames from: 28\n",
      "Extracting frames from: 29\n"
     ]
    }
   ],
   "source": [
    "for index in range(len(df)):\n",
    "    print(\"Extracting frames from:\", index)\n",
    "    video_name = f\"{index:02d}\"\n",
    "    os.system(f\"mkdir frames/{video_name}\")\n",
    "    os.system(f\"ffmpeg -i videos/{video_name}.mp4 -r 1 frames/{video_name}/%03d.png\")"
   ]
  }
 ],
 "metadata": {
  "kernelspec": {
   "display_name": "Python 3",
   "language": "python",
   "name": "python3"
  },
  "language_info": {
   "codemirror_mode": {
    "name": "ipython",
    "version": 3
   },
   "file_extension": ".py",
   "mimetype": "text/x-python",
   "name": "python",
   "nbconvert_exporter": "python",
   "pygments_lexer": "ipython3",
   "version": "3.8.5"
  }
 },
 "nbformat": 4,
 "nbformat_minor": 5
}
